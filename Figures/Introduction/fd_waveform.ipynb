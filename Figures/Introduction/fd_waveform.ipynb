{
 "cells": [
  {
   "cell_type": "code",
   "execution_count": 1,
   "id": "4168bf8c-4295-4b8f-ae84-60e7d64df343",
   "metadata": {},
   "outputs": [
    {
     "name": "stderr",
     "output_type": "stream",
     "text": [
      "No GPU/TPU found, falling back to CPU. (Set TF_CPP_MIN_LOG_LEVEL=0 and rerun for more info.)\n"
     ]
    }
   ],
   "source": [
    "import jax.numpy as jnp\n",
    "import matplotlib.pyplot as plt\n",
    "\n",
    "from ripple.waveforms import IMRPhenomD\n",
    "from ripple import ms_to_Mc_eta"
   ]
  },
  {
   "cell_type": "code",
   "execution_count": 8,
   "id": "f4c447e8-4703-42a5-955f-aaaf31e8f4cc",
   "metadata": {},
   "outputs": [],
   "source": [
    "# Get a frequency domain waveform\n",
    "# source parameters\n",
    "\n",
    "m1_msun = 20.0 # In solar masses\n",
    "m2_msun = 19.0\n",
    "chi1 = 0.5 # Dimensionless spin\n",
    "chi2 = -0.5\n",
    "tc = 0.0 # Time of coalescence in seconds\n",
    "phic = 0.0 # Time of coalescence\n",
    "dist_mpc = 440 # Distance to source in Mpc\n",
    "inclination = 0.0 # Inclination Angle\n",
    "\n",
    "# The PhenomD waveform model is parameterized with the chirp mass and symmetric mass ratio\n",
    "Mc, eta = ms_to_Mc_eta(jnp.array([m1_msun, m2_msun]))\n",
    "\n",
    "# These are the parametrs that go into the waveform generator\n",
    "# Note that JAX does not give index errors, so if you pass in the\n",
    "# the wrong array it will behave strangely\n",
    "theta_ripple = jnp.array([Mc, eta, chi1, chi2, dist_mpc, tc, phic, inclination])\n",
    "\n",
    "# Now we need to generate the frequency grid\n",
    "f_l = 24\n",
    "f_u = 1024\n",
    "del_f = 0.01\n",
    "fs = jnp.arange(f_l, f_u, del_f)\n",
    "f_ref = f_l\n",
    "\n",
    "# And finally lets generate the waveform!\n",
    "hp_ripple, hc_ripple = IMRPhenomD.gen_IMRPhenomD_polar(fs, theta_ripple, f_ref)\n",
    "\n",
    "# Note that we have not internally jitted the functions since this would\n",
    "# introduce an annoying overhead each time the user evaluated the function with a different length frequency array\n",
    "# We therefore recommend that the user jit the function themselves to accelerate evaluations. For example:\n",
    "\n",
    "import jax\n",
    "\n",
    "@jax.jit\n",
    "def waveform(theta):\n",
    "    return IMRPhenomD.gen_IMRPhenomD_polar(fs, theta)"
   ]
  },
  {
   "cell_type": "code",
   "execution_count": 9,
   "id": "41b9c8ab-5257-416c-bbf7-1876eedeb58c",
   "metadata": {},
   "outputs": [
    {
     "data": {
      "image/png": "[encoded data removed]",
      "text/plain": [
       "<Figure size 432x288 with 1 Axes>"
      ]
     },
     "metadata": {
      "needs_background": "light"
     },
     "output_type": "display_data"
    }
   ],
   "source": [
    "fig, ax = plt.subplots()\n",
    "\n",
    "ax.plot(fs, abs(hp_ripple + 1j*hc_ripple))\n",
    "\n",
    "ax.set_xscale('log')\n",
    "ax.set_yscale('log')"
   ]
  }
 ],
 "metadata": {
  "kernelspec": {
   "display_name": "Python [conda env:ripple]",
   "language": "python",
   "name": "conda-env-ripple-py"
  },
  "language_info": {
   "codemirror_mode": {
    "name": "ipython",
    "version": 3
   },
   "file_extension": ".py",
   "mimetype": "text/x-python",
   "name": "python",
   "nbconvert_exporter": "python",
   "pygments_lexer": "ipython3",
   "version": "3.11.0"
  }
 },
 "nbformat": 4,
 "nbformat_minor": 5
}
